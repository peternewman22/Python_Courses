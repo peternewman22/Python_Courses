{
 "cells": [
  {
   "cell_type": "markdown",
   "metadata": {},
   "source": [
    "# Variable Types - Lists (2)"
   ]
  },
  {
   "cell_type": "markdown",
   "metadata": {},
   "source": [
    "In the last lesson we learnt that a list can hold any number of  variables and that these variables can be of any type, even other lists. We also saw that we can index and slice lists in the same way that we can with strings.\n",
    "\n",
    "In this lesson we'll learn how to add items to a list using the <code>list.append()</code> function, how to delete an item from a list by its index using the <code>del</code> keyword, and how to create and access nested lists."
   ]
  },
  {
   "cell_type": "markdown",
   "metadata": {},
   "source": [
    "## Adding items to a list\n",
    "\n",
    "When Plotly interprets data, it expects each particular piece (or trace) of data to be an item in a list, for example Plotly would expect the x-values and y-values of a chart to be in two separate lists, and there are many occasions where we would want to create the dynamically.\n",
    "\n",
    "To do this, we use the <code>list.append()</code> function.\n",
    "\n",
    "First, we start with an empty list which will eventually contain our x-values:"
   ]
  },
  {
   "cell_type": "code",
   "execution_count": 1,
   "metadata": {
    "collapsed": false
   },
   "outputs": [
    {
     "name": "stdout",
     "output_type": "stream",
     "text": [
      "[]\n"
     ]
    }
   ],
   "source": [
    "xVals = []\n",
    "\n",
    "print(xVals)"
   ]
  },
  {
   "cell_type": "markdown",
   "metadata": {},
   "source": [
    "Then, we might decide that we want to add some observations to our list of x-values. To do this, we can use <code>list.append()</code> to add them one by one (we'll learn a faster way to do this in a future lesson):"
   ]
  },
  {
   "cell_type": "code",
   "execution_count": 2,
   "metadata": {
    "collapsed": false,
    "scrolled": true
   },
   "outputs": [
    {
     "name": "stdout",
     "output_type": "stream",
     "text": [
      "[2]\n",
      "[2, 4]\n",
      "[2, 4, 6]\n",
      "[2, 4, 6, 8]\n",
      "[2, 4, 6, 8, 10]\n"
     ]
    }
   ],
   "source": [
    "xVals.append(2)\n",
    "\n",
    "print(xVals)\n",
    "\n",
    "xVals.append(4)\n",
    "\n",
    "print(xVals)\n",
    "\n",
    "xVals.append(6)\n",
    "\n",
    "print(xVals)\n",
    "\n",
    "xVals.append(8)\n",
    "\n",
    "print(xVals)\n",
    "\n",
    "xVals.append(10)\n",
    "\n",
    "print(xVals)"
   ]
  },
  {
   "cell_type": "markdown",
   "metadata": {},
   "source": [
    "## Deleting items from a list\n",
    "\n",
    "After creating our list of x-values, we might then want to delete items from that list. To do this, we use the <code>del</code> keyword in conjunction with the list index to select the item which we want to remove.\n",
    "\n",
    "Here I'm taking a copy of the x-vals because I want to use this list later on in this lesson:"
   ]
  },
  {
   "cell_type": "code",
   "execution_count": 3,
   "metadata": {
    "collapsed": true
   },
   "outputs": [],
   "source": [
    "xValsDel = xVals"
   ]
  },
  {
   "cell_type": "markdown",
   "metadata": {},
   "source": [
    "If we wanted to delete the first (or zeroeth) item in the list we would use the <code>del</code> keyword, and select the item at index 0:"
   ]
  },
  {
   "cell_type": "code",
   "execution_count": 4,
   "metadata": {
    "collapsed": false
   },
   "outputs": [
    {
     "name": "stdout",
     "output_type": "stream",
     "text": [
      "Before: [2, 4, 6, 8, 10]\n",
      "After: [4, 6, 8, 10]\n"
     ]
    }
   ],
   "source": [
    "print(\"Before:\", xValsDel)\n",
    "\n",
    "del xValsDel[0]\n",
    "\n",
    "print(\"After:\", xValsDel)"
   ]
  },
  {
   "cell_type": "markdown",
   "metadata": {},
   "source": [
    "We might also want to delete the last item in the list. We can select the last item by choosing the item at index -1:"
   ]
  },
  {
   "cell_type": "code",
   "execution_count": 5,
   "metadata": {
    "collapsed": false
   },
   "outputs": [
    {
     "name": "stdout",
     "output_type": "stream",
     "text": [
      "Before: [4, 6, 8, 10]\n",
      "After: [4, 6, 8]\n"
     ]
    }
   ],
   "source": [
    "print(\"Before:\", xValsDel)\n",
    "\n",
    "del xValsDel[-1]\n",
    "\n",
    "print(\"After:\", xValsDel)"
   ]
  },
  {
   "cell_type": "markdown",
   "metadata": {},
   "source": [
    "## Creating and accessing nested lists\n",
    "\n",
    "So, now we've created our x-values and y-values and seen how to delete items from them as we wish, we'll now learn how to create a nested list and how to access the items in that list.\n",
    "\n",
    "First, I'll create a list which contains our x-values and y-values:"
   ]
  },
  {
   "cell_type": "code",
   "execution_count": 8,
   "metadata": {
    "collapsed": false
   },
   "outputs": [
    {
     "name": "stdout",
     "output_type": "stream",
     "text": [
      "[[4, 6, 8], [1, 2, 3]]\n"
     ]
    }
   ],
   "source": [
    "yVals = [1,2,3]\n",
    "allData = [xVals, yVals]\n",
    "print(allData)"
   ]
  },
  {
   "cell_type": "markdown",
   "metadata": {},
   "source": [
    "We can then access the item in the zeroeth position by using index 0:"
   ]
  },
  {
   "cell_type": "code",
   "execution_count": 9,
   "metadata": {
    "collapsed": false
   },
   "outputs": [
    {
     "name": "stdout",
     "output_type": "stream",
     "text": [
      "[4, 6, 8]\n"
     ]
    }
   ],
   "source": [
    "print(allData[0])"
   ]
  },
  {
   "cell_type": "markdown",
   "metadata": {},
   "source": [
    "We can then access the items inside the list at index 0 in allData by adding another square bracket:"
   ]
  },
  {
   "cell_type": "code",
   "execution_count": 10,
   "metadata": {
    "collapsed": false
   },
   "outputs": [
    {
     "name": "stdout",
     "output_type": "stream",
     "text": [
      "6\n"
     ]
    }
   ],
   "source": [
    "print(allData[0][1])"
   ]
  },
  {
   "cell_type": "markdown",
   "metadata": {},
   "source": [
    "We can continue this process indefinitely, with nested lists inside nested lists. This list is three levels deep:"
   ]
  },
  {
   "cell_type": "code",
   "execution_count": 11,
   "metadata": {
    "collapsed": false
   },
   "outputs": [
    {
     "data": {
      "text/plain": [
       "[[[4, 6, 8], [1, 2, 3]], [[4, 6, 8], [1, 2, 3]]]"
      ]
     },
     "execution_count": 11,
     "metadata": {},
     "output_type": "execute_result"
    }
   ],
   "source": [
    "allData2 = [allData, allData]\n",
    "allData2"
   ]
  },
  {
   "cell_type": "markdown",
   "metadata": {},
   "source": [
    "We can access the list at index 0:"
   ]
  },
  {
   "cell_type": "code",
   "execution_count": 12,
   "metadata": {
    "collapsed": false
   },
   "outputs": [
    {
     "data": {
      "text/plain": [
       "[[4, 6, 8], [1, 2, 3]]"
      ]
     },
     "execution_count": 12,
     "metadata": {},
     "output_type": "execute_result"
    }
   ],
   "source": [
    "allData2[0]"
   ]
  },
  {
   "cell_type": "markdown",
   "metadata": {},
   "source": [
    "We can access the nested list at index 1:"
   ]
  },
  {
   "cell_type": "code",
   "execution_count": 13,
   "metadata": {
    "collapsed": false
   },
   "outputs": [
    {
     "data": {
      "text/plain": [
       "[1, 2, 3]"
      ]
     },
     "execution_count": 13,
     "metadata": {},
     "output_type": "execute_result"
    }
   ],
   "source": [
    "allData2[0][1]"
   ]
  },
  {
   "cell_type": "markdown",
   "metadata": {},
   "source": [
    "And we can access the item at index 2 in that list:"
   ]
  },
  {
   "cell_type": "code",
   "execution_count": 14,
   "metadata": {
    "collapsed": false
   },
   "outputs": [
    {
     "data": {
      "text/plain": [
       "3"
      ]
     },
     "execution_count": 14,
     "metadata": {},
     "output_type": "execute_result"
    }
   ],
   "source": [
    "allData2[0][1][2]"
   ]
  },
  {
   "cell_type": "markdown",
   "metadata": {},
   "source": [
    "### What have we learnt this lesson?"
   ]
  },
  {
   "cell_type": "markdown",
   "metadata": {},
   "source": [
    "So that concludes this lesson, in which we have learnt how to add items to a list using the <code>list.append()</code> function, as well as how to delete items from a list by using the <code>del</code> keyword and selecting the item by index.\n",
    "\n",
    "Finally, we learnt how to create nested lists and how to access the objects at different levels within the nested list.\n",
    "\n",
    "The next lesson will look at dictionaries."
   ]
  },
  {
   "cell_type": "markdown",
   "metadata": {},
   "source": [
    "If you have any questions, please ask in the comments section or email <a href=\"mailto:me@richard-muir.com\">me@richard-muir.com</a>"
   ]
  }
 ],
 "metadata": {
  "kernelspec": {
   "display_name": "Python 3",
   "language": "python",
   "name": "python3"
  },
  "language_info": {
   "codemirror_mode": {
    "name": "ipython",
    "version": 3
   },
   "file_extension": ".py",
   "mimetype": "text/x-python",
   "name": "python",
   "nbconvert_exporter": "python",
   "pygments_lexer": "ipython3",
   "version": "3.4.5"
  }
 },
 "nbformat": 4,
 "nbformat_minor": 0
}
