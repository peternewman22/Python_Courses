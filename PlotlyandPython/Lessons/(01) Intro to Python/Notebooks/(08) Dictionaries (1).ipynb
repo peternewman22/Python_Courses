{
 "cells": [
  {
   "cell_type": "markdown",
   "metadata": {},
   "source": [
    "# Dictionaries (1)"
   ]
  },
  {
   "cell_type": "markdown",
   "metadata": {},
   "source": [
    "In the last two lessons we learnt how to create lists, as well as how to implement some common functions and methods on them to change their contents.\n",
    "\n",
    "In this lesson we'll learn how to create dictionaries and how to access the different items inside them. Plotly expects the instructions it needs to create the chart to be in a dictionary of a particular form, it's therefore really important that we understand them well."
   ]
  },
  {
   "cell_type": "markdown",
   "metadata": {},
   "source": [
    "## What is a dictionary?\n",
    "\n",
    "A dictionary is similar to a list in that it is a container which can hold many other objects. These objects can be of any type, even lists or other dictionaries. One important difference, is that the items within a dictionary are made of two elements; the key of that item and the value of that item. Whilst we access the items in a list by their index, we access the items in a dictionary by their key.\n",
    "\n",
    "Dictionaries are contained within two curly brackets, with each key/value pair separated by a comma, and each key and value being separated by a colon. The key goes on the left, and the value goes on the right. Keys must be unique within a dictionary.\n",
    "\n",
    "In the dictionary below, <code>key1</code> corresponds to the string <code>'Value 1'</code>, whilst <code>key2</code> corresponds to the value <code>5</code>:"
   ]
  },
  {
   "cell_type": "code",
   "execution_count": 8,
   "metadata": {
    "collapsed": false
   },
   "outputs": [],
   "source": [
    "dict1 = {'key1' : 'Value 1', 'key2': 5}"
   ]
  },
  {
   "cell_type": "markdown",
   "metadata": {},
   "source": [
    "In the dictionary below, the dictionary keys are numbers rather than strings. There are some situations in which this could be helpful, however I generally prefer to use meaningful strings for the dictionary keys, as this will help us access them later.\n",
    "\n",
    "In this dictionary, the key <code>5</code> refers to the string <code>'Value1'</code>, whilst the key <code>10</code> refers to the value <code>20</code>:"
   ]
  },
  {
   "cell_type": "code",
   "execution_count": 9,
   "metadata": {
    "collapsed": true
   },
   "outputs": [],
   "source": [
    "dict2 = {5 : 'Value1', 10: 20}"
   ]
  },
  {
   "cell_type": "markdown",
   "metadata": {},
   "source": [
    "The keys and values in a dictionary don't need to be set directly as strings or integers, we can instead set them to the value of an object.\n",
    "\n",
    "In this example, I'm setting the keys of the dictionary as a slice from a string variable, whilst the values are items from a list. \n",
    "\n",
    "Whilst this example is not directly applicable, it functions as a proof of concept. We will see the real power of being able to use variables to set the keys and values of a dictionary when we learn about loops."
   ]
  },
  {
   "cell_type": "code",
   "execution_count": 10,
   "metadata": {
    "collapsed": false
   },
   "outputs": [
    {
     "name": "stdout",
     "output_type": "stream",
     "text": [
      "{'key1': 5, 'key2': 10}\n"
     ]
    }
   ],
   "source": [
    "testString = 'key1key2'\n",
    "testList = [5,10]\n",
    "\n",
    "dict3 = {testString[:4] : testList[0], testString[4:] : testList[1]}\n",
    "\n",
    "print(dict3)"
   ]
  },
  {
   "cell_type": "markdown",
   "metadata": {
    "collapsed": false
   },
   "source": [
    "## Accessing items in a dictionary\n",
    "\n",
    "In a previous lesson we have seen how to access the items in a list by their index. We access the individual values in a dictionary by referencing them with their key.\n",
    "\n",
    "The example dictionary below contains test scores for four students:"
   ]
  },
  {
   "cell_type": "code",
   "execution_count": 11,
   "metadata": {
    "collapsed": true
   },
   "outputs": [],
   "source": [
    "testScores = {'Alice' : 10, 'Bob' : 50, 'Petra' : 80, 'Andy' : 65}"
   ]
  },
  {
   "cell_type": "markdown",
   "metadata": {},
   "source": [
    "In this cell, I can get Bob's test score by passing his name as a key to the dictionary:"
   ]
  },
  {
   "cell_type": "code",
   "execution_count": 12,
   "metadata": {
    "collapsed": false
   },
   "outputs": [
    {
     "data": {
      "text/plain": [
       "50"
      ]
     },
     "execution_count": 12,
     "metadata": {},
     "output_type": "execute_result"
    }
   ],
   "source": [
    "testScores['Bob']"
   ]
  },
  {
   "cell_type": "markdown",
   "metadata": {},
   "source": [
    "If we use a key which is not in the dictionary, we get an error:"
   ]
  },
  {
   "cell_type": "code",
   "execution_count": 13,
   "metadata": {
    "collapsed": false
   },
   "outputs": [
    {
     "ename": "KeyError",
     "evalue": "'John'",
     "output_type": "error",
     "traceback": [
      "\u001b[1;31m---------------------------------------------------------------------------\u001b[0m",
      "\u001b[1;31mKeyError\u001b[0m                                  Traceback (most recent call last)",
      "\u001b[1;32m<ipython-input-13-36f9679a8f84>\u001b[0m in \u001b[0;36m<module>\u001b[1;34m()\u001b[0m\n\u001b[1;32m----> 1\u001b[1;33m \u001b[0mtestScores\u001b[0m\u001b[1;33m[\u001b[0m\u001b[1;34m'John'\u001b[0m\u001b[1;33m]\u001b[0m\u001b[1;33m\u001b[0m\u001b[0m\n\u001b[0m",
      "\u001b[1;31mKeyError\u001b[0m: 'John'"
     ]
    }
   ],
   "source": [
    "testScores['John']"
   ]
  },
  {
   "cell_type": "markdown",
   "metadata": {},
   "source": [
    "Just as we can create keys and items using variables, we can also access them in the same way.\n",
    "\n",
    "Here, we have the students' names stored in a list. We can access their test scores in the dictionary by passing the item at a particular index of the list:"
   ]
  },
  {
   "cell_type": "code",
   "execution_count": 14,
   "metadata": {
    "collapsed": false
   },
   "outputs": [
    {
     "data": {
      "text/plain": [
       "65"
      ]
     },
     "execution_count": 14,
     "metadata": {},
     "output_type": "execute_result"
    }
   ],
   "source": [
    "students = ['Alice' ,'Bob' ,'Petra' ,'Andy']\n",
    "\n",
    "testScores[students[3]]"
   ]
  },
  {
   "cell_type": "markdown",
   "metadata": {},
   "source": [
    "## Changing a dictionary\n",
    "\n",
    "As well as accessing items in a dictionary, we can also create new items:"
   ]
  },
  {
   "cell_type": "code",
   "execution_count": 15,
   "metadata": {
    "collapsed": false
   },
   "outputs": [
    {
     "data": {
      "text/plain": [
       "{'Alice': 10, 'Andy': 65, 'Bob': 50, 'Jeremy': 100, 'Petra': 80}"
      ]
     },
     "execution_count": 15,
     "metadata": {},
     "output_type": "execute_result"
    }
   ],
   "source": [
    "testScores['Jeremy'] = 100\n",
    "\n",
    "testScores"
   ]
  },
  {
   "cell_type": "markdown",
   "metadata": {},
   "source": [
    "We can also change the value of a specific key:"
   ]
  },
  {
   "cell_type": "code",
   "execution_count": 16,
   "metadata": {
    "collapsed": false
   },
   "outputs": [],
   "source": [
    "testScores['Alice'] = 100"
   ]
  },
  {
   "cell_type": "markdown",
   "metadata": {},
   "source": [
    "We can update more than one item at a time by using the <code>dict.update()</code> method.\n",
    "\n",
    "We can pass a dictionary as an argument to this method:"
   ]
  },
  {
   "cell_type": "code",
   "execution_count": 17,
   "metadata": {
    "collapsed": false
   },
   "outputs": [
    {
     "data": {
      "text/plain": [
       "{'Alice': 100, 'Andy': 90, 'Bob': 25, 'Jeremy': 100, 'Petra': 80}"
      ]
     },
     "execution_count": 17,
     "metadata": {},
     "output_type": "execute_result"
    }
   ],
   "source": [
    "testScores.update({'Andy' : 90, 'Bob' : 25})\n",
    "\n",
    "testScores"
   ]
  },
  {
   "cell_type": "markdown",
   "metadata": {},
   "source": [
    "We can also add more than one item at the same time:"
   ]
  },
  {
   "cell_type": "code",
   "execution_count": 18,
   "metadata": {
    "collapsed": false,
    "scrolled": true
   },
   "outputs": [
    {
     "data": {
      "text/plain": [
       "{'Alice': 100,\n",
       " 'Andy': 90,\n",
       " 'Anthony': 32,\n",
       " 'Bethany': 99,\n",
       " 'Bob': 25,\n",
       " 'Jeremy': 100,\n",
       " 'Malcolm': 64,\n",
       " 'Petra': 80}"
      ]
     },
     "execution_count": 18,
     "metadata": {},
     "output_type": "execute_result"
    }
   ],
   "source": [
    "testScores.update({'Malcolm' : 64, 'Anthony' : 32, 'Bethany' : 99})\n",
    "\n",
    "testScores"
   ]
  },
  {
   "cell_type": "markdown",
   "metadata": {},
   "source": [
    "We can delete items in a dictionary by using the <code>del</code> keyword:"
   ]
  },
  {
   "cell_type": "code",
   "execution_count": 19,
   "metadata": {
    "collapsed": false
   },
   "outputs": [
    {
     "data": {
      "text/plain": [
       "{'Andy': 90,\n",
       " 'Anthony': 32,\n",
       " 'Bethany': 99,\n",
       " 'Bob': 25,\n",
       " 'Jeremy': 100,\n",
       " 'Malcolm': 64,\n",
       " 'Petra': 80}"
      ]
     },
     "execution_count": 19,
     "metadata": {},
     "output_type": "execute_result"
    }
   ],
   "source": [
    "del testScores['Alice']\n",
    "\n",
    "testScores"
   ]
  },
  {
   "cell_type": "markdown",
   "metadata": {},
   "source": [
    "And we can empty the dictionary of all its elements by using the <code>dict.clear()</code> method:"
   ]
  },
  {
   "cell_type": "code",
   "execution_count": 20,
   "metadata": {
    "collapsed": false
   },
   "outputs": [
    {
     "data": {
      "text/plain": [
       "{}"
      ]
     },
     "execution_count": 20,
     "metadata": {},
     "output_type": "execute_result"
    }
   ],
   "source": [
    "testScores.clear()\n",
    "\n",
    "testScores"
   ]
  },
  {
   "cell_type": "markdown",
   "metadata": {},
   "source": [
    "### What have we learnt this lesson?\n",
    "\n",
    "In this lesson we've seen how to create a dictionary and how to access the different items inside it. We've also seen how to add to and update values in a dictionary one at a time by using assignment, or in batches by using <code>dict.update()</code> we've seen how to delete single elements by using the <code>del</code> keyword, or how to delete all of the elements using <code>dict.clear()</code>.\n",
    "\n",
    "In the next lesson we'll look at some other common functions and methods that can be used with dictionaries. We'll see how to get a list of the keys, the values and the key/value pairs, and we'll also learn about nested dictionaries and how to accesss the values inside them."
   ]
  },
  {
   "cell_type": "markdown",
   "metadata": {},
   "source": [
    "If you have any questions, please ask in the comments section or email <a href=\"mailto:me@richard-muir.com\">me@richard-muir.com</a>"
   ]
  }
 ],
 "metadata": {
  "kernelspec": {
   "display_name": "Python 3",
   "language": "python",
   "name": "python3"
  },
  "language_info": {
   "codemirror_mode": {
    "name": "ipython",
    "version": 3
   },
   "file_extension": ".py",
   "mimetype": "text/x-python",
   "name": "python",
   "nbconvert_exporter": "python",
   "pygments_lexer": "ipython3",
   "version": "3.4.5"
  }
 },
 "nbformat": 4,
 "nbformat_minor": 0
}
