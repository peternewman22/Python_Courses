{
 "cells": [
  {
   "cell_type": "markdown",
   "metadata": {},
   "source": [
    "# If-Else Statements"
   ]
  },
  {
   "cell_type": "markdown",
   "metadata": {},
   "source": [
    "In this lesson we're going to move away from variable types and data structures and instead look at conditional programming. We'll see how to make decisions using the <code>if</code>, <code>elif</code> and <code>else</code> statements.\n",
    "\n",
    "This is one of the most powerful constructs we can use when programming and it's especially helpful when making different charts. For example, we might want to set a bar on a barchart to be a different colour if it shows a value above a certain threshhold. We would use an <code>if</code> statement to achieve this.\n",
    "\n",
    "## How do If statements work?\n",
    "\n",
    "The <code>if</code> statement in Python is constructed as follows:\n",
    "\n",
    "````\n",
    "if <condition>:\n",
    "    <code to run>\n",
    "````\n",
    "\n",
    "The condition must be an expression which evaluates to a boolean (True or False) value. If the condition evaluates to True, then the code below is run. In Python, we must indent the code to run with four spaces (or a tab). Any code that is not indented after the statement is run anyway.\n",
    "\n",
    "In the example below, we're checking if a is greater than three, and if it is we return a string confirming this:"
   ]
  },
  {
   "cell_type": "code",
   "execution_count": 1,
   "metadata": {
    "collapsed": false
   },
   "outputs": [
    {
     "name": "stdout",
     "output_type": "stream",
     "text": [
      "a is greater than 3\n",
      "This code runs anyway\n"
     ]
    }
   ],
   "source": [
    "a = 5\n",
    "\n",
    "if a > 3:\n",
    "    print(\"a is greater than 3\")\n",
    "print(\"This code runs anyway\")"
   ]
  },
  {
   "cell_type": "markdown",
   "metadata": {},
   "source": [
    "When a is not greater than three, nothing happens in the <code>if</code> statemnt because there is no code to run (notice that the code outside of the <code>if</code> statement still runs):"
   ]
  },
  {
   "cell_type": "code",
   "execution_count": 2,
   "metadata": {
    "collapsed": false
   },
   "outputs": [
    {
     "name": "stdout",
     "output_type": "stream",
     "text": [
      "This code runs anyway\n"
     ]
    }
   ],
   "source": [
    "a = 2\n",
    "\n",
    "if a > 3:\n",
    "    print(\"a is greater than 3\")\n",
    "print(\"This code runs anyway\")"
   ]
  },
  {
   "cell_type": "markdown",
   "metadata": {},
   "source": [
    "### Adding an Else Statement\n",
    "\n",
    "If we want to run some code when the condition evaluates to <code>False</code>, we need to add an <code>else</code> statement. The code that comes after this statement must be indented by four spaces (or a tab). The syntax is as follows:\n",
    "````\n",
    "if <condition>:\n",
    "    <code to run>\n",
    "else:\n",
    "    <code which runs when if condition is False>\n",
    "````\n",
    "\n",
    "The code after the <code>else</code> statement only runs when the <code>if</code> statement evaluates to <code>False</code>:"
   ]
  },
  {
   "cell_type": "code",
   "execution_count": 3,
   "metadata": {
    "collapsed": false
   },
   "outputs": [
    {
     "name": "stdout",
     "output_type": "stream",
     "text": [
      "a is less than 3\n",
      "This code runs anyway\n"
     ]
    }
   ],
   "source": [
    "a = 2\n",
    "\n",
    "if a > 3:\n",
    "    print(\"a is greater than 3\")\n",
    "else:\n",
    "    print(\"a is less than 3\")\n",
    "    \n",
    "print(\"This code runs anyway\")"
   ]
  },
  {
   "cell_type": "markdown",
   "metadata": {
    "collapsed": true
   },
   "source": [
    "### Adding other conditions\n",
    "\n",
    "We can also introduce more conditions using the <code>elif</code> statement (else if). These conditions work in the same way as the <code>if</code>statement; the code after each is only run if the condition evaluates to <code>True</code>. The syntax is as follows:\n",
    "````\n",
    "if <condition>:\n",
    "    <code to run>\n",
    "elif <other condition>:\n",
    "    <different code to run>\n",
    "elif <another condition>:\n",
    "    <another piece of code>\n",
    "else:\n",
    "    <code which runs when all other conditions are False>\n",
    "````\n",
    "\n",
    "You might have noticed an error with the code in the cell above; what happens when a is 3? The statement <code>\"a is less than 3\"</code> is clearly not true here! \n",
    "\n",
    "We can use an <code>elif</code> statement to add another condition:"
   ]
  },
  {
   "cell_type": "code",
   "execution_count": 4,
   "metadata": {
    "collapsed": false
   },
   "outputs": [
    {
     "name": "stdout",
     "output_type": "stream",
     "text": [
      "a is equal to 3\n",
      "This code runs anyway\n"
     ]
    }
   ],
   "source": [
    "a = 3\n",
    "\n",
    "if a > 3:\n",
    "    print(\"a is greater than 3\")\n",
    "elif a == 3:\n",
    "    print(\"a is equal to 3\")\n",
    "else:\n",
    "    print(\"a is less than 3\")\n",
    "    \n",
    "print(\"This code runs anyway\")"
   ]
  },
  {
   "cell_type": "markdown",
   "metadata": {},
   "source": [
    "We can add as many <code>elif</code> statements as we wish:"
   ]
  },
  {
   "cell_type": "code",
   "execution_count": 5,
   "metadata": {
    "collapsed": false,
    "scrolled": true
   },
   "outputs": [
    {
     "name": "stdout",
     "output_type": "stream",
     "text": [
      "a is equal to 2\n",
      "This code runs anyway\n"
     ]
    }
   ],
   "source": [
    "a = 2\n",
    "\n",
    "if a > 3:\n",
    "    print(\"a is greater than 3\")\n",
    "elif a == 3:\n",
    "    print(\"a is equal to 3\")\n",
    "elif a == 2:\n",
    "    print(\"a is equal to 2\")\n",
    "else:\n",
    "    print(\"a is less than 2\")\n",
    "    \n",
    "print(\"This code runs anyway\")"
   ]
  },
  {
   "cell_type": "markdown",
   "metadata": {},
   "source": [
    "### Nested If Statements\n",
    "\n",
    "We can place an If-Else statement as the code to run inside an if statement. The code to run in the nested if statement must be indented by 8 spaces (or two tabs). The syntax is as follows:\n",
    "\n",
    "````\n",
    "if <condition>:\n",
    "    if <condition>:\n",
    "        <code to run>\n",
    "    else:\n",
    "        <code to run if the nested if statement is False>\n",
    "else:\n",
    "    <code to run if the first if statement is False>\n",
    "````\n",
    "\n",
    "Creating nested if statements allows us to create complex decision trees and to tailor our code to deal with many different situations.\n",
    "\n",
    "In the cell below, we first check if a is greater than 3, if this condition is True, we then invoke the nested if statment and check if a is then subsequently greater than 4; if not, we know that it must be equal to 4, and this is captured in the Else part of the nested If statement."
   ]
  },
  {
   "cell_type": "code",
   "execution_count": 6,
   "metadata": {
    "collapsed": false
   },
   "outputs": [
    {
     "name": "stdout",
     "output_type": "stream",
     "text": [
      "a is greater than 4\n",
      "This code runs anyway\n"
     ]
    }
   ],
   "source": [
    "a = 6\n",
    "\n",
    "if a > 3:\n",
    "    if a > 4:\n",
    "        print(\"a is greater than 4\")\n",
    "    else:\n",
    "        print(\"a is equal to 4\")\n",
    "elif a == 3:\n",
    "    print(\"a is equal to 3\")\n",
    "else:\n",
    "    print(\"a is less than 3\")\n",
    "    \n",
    "print(\"This code runs anyway\")"
   ]
  },
  {
   "cell_type": "markdown",
   "metadata": {},
   "source": [
    "### What have we learnt this lesson?"
   ]
  },
  {
   "cell_type": "markdown",
   "metadata": {},
   "source": [
    "In this lesson we've learnt how to run code based on a condition. We learnt the syntax of the if-else statement, finding that we must put a colon after every statement and indent the code following it by four spaces (or a tab).\n",
    "\n",
    "We've seen that we can selectively run a piece of code  by using an <code>if</code> statement. We also learnt how to run some code when the <code>if</code> statement evaluates to <code>False</code> by using an <code>else</code> statemnt. FInally, we saw that we can add many other conditions between the <code>if</code> and <code>else</code> statements by creating <code>elif</code> statements.\n",
    "\n",
    "Finally, we learnt how to create nested if statements which allow us to create complex decision trees and to tailor our code to handle many different situations."
   ]
  },
  {
   "cell_type": "markdown",
   "metadata": {},
   "source": [
    "If you have any questions, please ask in the comments section or email <a href=\"mailto:me@richard-muir.com\">me@richard-muir.com</a>"
   ]
  }
 ],
 "metadata": {
  "kernelspec": {
   "display_name": "Python 3",
   "language": "python",
   "name": "python3"
  },
  "language_info": {
   "codemirror_mode": {
    "name": "ipython",
    "version": 3
   },
   "file_extension": ".py",
   "mimetype": "text/x-python",
   "name": "python",
   "nbconvert_exporter": "python",
   "pygments_lexer": "ipython3",
   "version": "3.4.5"
  }
 },
 "nbformat": 4,
 "nbformat_minor": 0
}
