{
 "cells": [
  {
   "cell_type": "markdown",
   "metadata": {},
   "source": [
    "# For Loops (1) - Looping through a range of values"
   ]
  },
  {
   "cell_type": "markdown",
   "metadata": {},
   "source": [
    "In the last lesson we learnt how to use if-else statements to control which code is run in a program. We saw that we could run different blocks of code depending on the outcome of a condition. We also saw how to create complex decision trees usinh nested if statements.\n",
    "\n",
    "In this lesson, we'll learn how to use For Loops to run the same piece of code a number of times. Normally code is run sequentially, with each line being executed after the previous line. By using loops, we can reduce the amount of code we have to write.\n",
    "\n",
    "For loops are essential for creating charts in Plotly, for example we might want to create a different data item for every year in a range of years, or create a chart which shows data about a list of countries. Using a loop to run this code prevents us from having to write the same piece of code many times, but it also allows us to write the code without having to know how many times it will run.\n",
    "\n",
    "## Different types of For Loops\n",
    "\n",
    "There are two different types of for loops which we'll use. The first (which we'll cover in this lesson) allows us to run the same piece of code a specified number of times, whilst the second (which we'll learn about in the next lesson) allows us to run the same piece of code for each item in a sequence (a list for example). They differ in that the first type will always run the same number of times, whilst the second will run as many times as there are items in the sequence.\n",
    "\n",
    "### Looping through a specified range of values\n",
    "\n",
    "We'll first look at using a For Loop to run a piece of code a specified number of times. To do this, we need to use Python's <code>range()</code> function to set the range in which the loop will operate. We also need to create a variable which exists only within the loop to keep track of where we are in the range. The syntax for this is as follows:\n",
    "\n",
    "````python\n",
    "for <variable name> in range(<set the range>):\n",
    "    <code to run>\n",
    "````\n",
    "\n",
    "First we'll look at some simple examples of how to create these loops, you'll then get a chance to practise how they work before we see how we can apply what we've learnt when making charts.\n",
    "\n",
    "## Our First For Loop\n",
    "\n",
    "In the cell below I've created a for loop. If we compare what I've written to the syntax above, we can see that the variable which keeps track of our position within the loop is called <code>i</code> - this is a convention in programming. \n",
    "\n",
    "I've set the loop to run in the range of <code>0-5</code>. Python starts counting from 0 (which is implicit in the <code>range()</code> function), and you'll remember from the lesson on slicing lists that we stop at the position before the end of the slice. This means that the loop will run 5 times, but that <code>i</code> will take the values 0-4 inclusive throughout the duration of the loop.\n",
    "\n",
    "Finally I've asked Python to simply print the value of <code>i</code> in each iteration of the loop. Doing this confirms how the loop works; that <code>i</code> increases by 1 each time the loop is run."
   ]
  },
  {
   "cell_type": "code",
   "execution_count": 1,
   "metadata": {
    "collapsed": false
   },
   "outputs": [
    {
     "name": "stdout",
     "output_type": "stream",
     "text": [
      "0\n",
      "1\n",
      "2\n",
      "3\n",
      "4\n"
     ]
    }
   ],
   "source": [
    "for i in range(5):\n",
    "    print(i)"
   ]
  },
  {
   "cell_type": "markdown",
   "metadata": {},
   "source": [
    "We can change the range in which the loop operates by passing other arguments to the <code>range()</code> function. Remember that after opening the brackets of a function, you can press <code>shift + tab</code> to see which arguments the function takes.\n",
    "\n",
    "In the cell below, I've set the loop to start at the year 2002 and finish just before the year 2016. We could use this construct to create a chart for each year in the range of years."
   ]
  },
  {
   "cell_type": "code",
   "execution_count": 2,
   "metadata": {
    "collapsed": false
   },
   "outputs": [
    {
     "name": "stdout",
     "output_type": "stream",
     "text": [
      "2002\n",
      "2003\n",
      "2004\n",
      "2005\n",
      "2006\n",
      "2007\n",
      "2008\n",
      "2009\n",
      "2010\n",
      "2011\n",
      "2012\n",
      "2013\n",
      "2014\n",
      "2015\n"
     ]
    }
   ],
   "source": [
    "for i in range(2002, 2016):\n",
    "    print(i)"
   ]
  },
  {
   "cell_type": "markdown",
   "metadata": {},
   "source": [
    "We can also pass a third argument to the <code>range()</code> function. This argument allows us to specify the step that  the loop variable (in this case, <code>i</code>) takes. In this case, I'm asking the loop to print out every other year. The loop doesn't print out the year 2016 because we have told it to stop just before 2016."
   ]
  },
  {
   "cell_type": "code",
   "execution_count": 3,
   "metadata": {
    "collapsed": false
   },
   "outputs": [
    {
     "name": "stdout",
     "output_type": "stream",
     "text": [
      "2002\n",
      "2004\n",
      "2006\n",
      "2008\n",
      "2010\n",
      "2012\n",
      "2014\n"
     ]
    }
   ],
   "source": [
    "for i in range(2002, 2016, 2):\n",
    "    print(i)"
   ]
  },
  {
   "cell_type": "markdown",
   "metadata": {
    "collapsed": false
   },
   "source": [
    "##  Running more interesting code\n",
    "\n",
    "We're not limited to simply printing out the value of <code>i</code> each time we run through the loop. We can implement conditional programming to do different things depending on which value <code>i</code> takes on a specific iteration of the loop.\n",
    "\n",
    "For example, say that we wanted to run a piece of code that manipulates data for every year between 2005 and 2015 inclusive, but we know that the data needed to be processed differently for 2009. We could use an if statement to run a different piece of code only when <code>i</code> is equal to 2009:"
   ]
  },
  {
   "cell_type": "code",
   "execution_count": 4,
   "metadata": {
    "collapsed": false
   },
   "outputs": [
    {
     "name": "stdout",
     "output_type": "stream",
     "text": [
      "Process the data as normal for: 2005\n",
      "Process the data as normal for: 2006\n",
      "Process the data as normal for: 2007\n",
      "Process the data as normal for: 2008\n",
      "Process the data differently for: 2009\n",
      "Process the data as normal for: 2010\n",
      "Process the data as normal for: 2011\n",
      "Process the data as normal for: 2012\n",
      "Process the data as normal for: 2013\n",
      "Process the data as normal for: 2014\n",
      "Process the data as normal for: 2015\n"
     ]
    }
   ],
   "source": [
    "for i in range(2005, 2016):\n",
    "    if i == 2009:\n",
    "        print(\"Process the data differently for: \" + str(i))\n",
    "    else:\n",
    "        print(\"Process the data as normal for: \" + str(i))"
   ]
  },
  {
   "cell_type": "markdown",
   "metadata": {},
   "source": [
    "## Practise\n",
    "\n",
    "This is the chance for you to practise what you've learnt. For each problem, try and solve it before scrolling down to see the solution."
   ]
  },
  {
   "cell_type": "markdown",
   "metadata": {},
   "source": [
    "### 1\n",
    "\n",
    "Write a loop which prints out the values from 2 to 13 inclusive.\n",
    "\n",
    "````\n",
    "2\n",
    "3\n",
    "4\n",
    "5\n",
    "6\n",
    "7\n",
    "8\n",
    "9\n",
    "10\n",
    "11\n",
    "12\n",
    "13\n",
    "````"
   ]
  },
  {
   "cell_type": "markdown",
   "metadata": {},
   "source": [
    "### 2\n",
    "\n",
    "Write a loop which prints out the values from 6 to 21 inclusive, but only even numbers:\n",
    "\n",
    "````\n",
    "6\n",
    "8\n",
    "10\n",
    "12\n",
    "14\n",
    "16\n",
    "18\n",
    "20\n",
    "````"
   ]
  },
  {
   "cell_type": "markdown",
   "metadata": {},
   "source": [
    "### 3\n",
    "\n",
    "Write a loop which gives the following output:\n",
    "\n",
    "````\n",
    "i = 5, i is odd\n",
    "i = 8, i is even\n",
    "i = 11, i is odd\n",
    "i = 14, i is even\n",
    "i = 17, i is odd\n",
    "i = 20, i is even\n",
    "````\n"
   ]
  },
  {
   "cell_type": "markdown",
   "metadata": {},
   "source": [
    "## Answers\n",
    "\n",
    "### 1"
   ]
  },
  {
   "cell_type": "code",
   "execution_count": 5,
   "metadata": {
    "collapsed": false
   },
   "outputs": [
    {
     "name": "stdout",
     "output_type": "stream",
     "text": [
      "2\n",
      "3\n",
      "4\n",
      "5\n",
      "6\n",
      "7\n",
      "8\n",
      "9\n",
      "10\n",
      "11\n",
      "12\n",
      "13\n"
     ]
    }
   ],
   "source": [
    "for i in range(2, 14):\n",
    "    print(i)"
   ]
  },
  {
   "cell_type": "markdown",
   "metadata": {},
   "source": [
    "### 2"
   ]
  },
  {
   "cell_type": "code",
   "execution_count": 6,
   "metadata": {
    "collapsed": false
   },
   "outputs": [
    {
     "name": "stdout",
     "output_type": "stream",
     "text": [
      "6\n",
      "8\n",
      "10\n",
      "12\n",
      "14\n",
      "16\n",
      "18\n",
      "20\n"
     ]
    }
   ],
   "source": [
    "for i in range(6, 21,2):\n",
    "    print(i)"
   ]
  },
  {
   "cell_type": "code",
   "execution_count": 7,
   "metadata": {
    "collapsed": false
   },
   "outputs": [
    {
     "name": "stdout",
     "output_type": "stream",
     "text": [
      "6\n",
      "8\n",
      "10\n",
      "12\n",
      "14\n",
      "16\n",
      "18\n",
      "20\n"
     ]
    }
   ],
   "source": [
    "#or\n",
    "\n",
    "for i in range(6, 21):\n",
    "    if i %2 == 0:\n",
    "        print(i)"
   ]
  },
  {
   "cell_type": "markdown",
   "metadata": {},
   "source": [
    "### 3"
   ]
  },
  {
   "cell_type": "code",
   "execution_count": 8,
   "metadata": {
    "collapsed": false
   },
   "outputs": [
    {
     "name": "stdout",
     "output_type": "stream",
     "text": [
      "i = 5, i is odd\n",
      "i = 8, i is even\n",
      "i = 11, i is odd\n",
      "i = 14, i is even\n",
      "i = 17, i is odd\n",
      "i = 20, i is even\n"
     ]
    }
   ],
   "source": [
    "for i in range(5, 21,3):\n",
    "    if i %2 == 0:\n",
    "        print(\"i = \" + str(i) + \", i is even\")\n",
    "    else:\n",
    "        print(\"i = \" + str(i) + \", i is odd\")"
   ]
  },
  {
   "cell_type": "markdown",
   "metadata": {},
   "source": [
    "### What have we learnt this lesson?"
   ]
  },
  {
   "cell_type": "markdown",
   "metadata": {},
   "source": [
    "In this lesson we've learnt how to create a for loop that runs a specific number of times, and for numbers within a specifc range. We've also learnt how to use conditional programming to control what code is run inside the loop."
   ]
  },
  {
   "cell_type": "markdown",
   "metadata": {},
   "source": [
    "If you have any questions, please ask in the comments section or email <a href=\"mailto:me@richard-muir.com\">me@richard-muir.com</a>"
   ]
  }
 ],
 "metadata": {
  "kernelspec": {
   "display_name": "Python 3",
   "language": "python",
   "name": "python3"
  },
  "language_info": {
   "codemirror_mode": {
    "name": "ipython",
    "version": 3
   },
   "file_extension": ".py",
   "mimetype": "text/x-python",
   "name": "python",
   "nbconvert_exporter": "python",
   "pygments_lexer": "ipython3",
   "version": "3.4.5"
  }
 },
 "nbformat": 4,
 "nbformat_minor": 0
}
