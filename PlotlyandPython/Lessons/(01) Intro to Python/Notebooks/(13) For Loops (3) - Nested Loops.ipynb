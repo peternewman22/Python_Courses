{
 "cells": [
  {
   "cell_type": "markdown",
   "metadata": {},
   "source": [
    "# For Loops (3) - Nested Loops"
   ]
  },
  {
   "cell_type": "markdown",
   "metadata": {},
   "source": [
    "In the last lesson we learnt how to write a loop which applies the same piece of code to every item in a sequence. We saw that we could use this to loop through the items in a list and create a new list from these items. We also learnt how to loop through the keys or values (or both) in a dictionary and how we might use this feature when creating charts.\n",
    "\n",
    "In this lesson we're going to look at nested loops and how to implement them in our code. \n",
    "\n",
    "## Nested Loops\n",
    "\n",
    "Nested loops are a very powerful construct; they allow us to loop through a sequence of sequences and apply the same operation to each sequence and sub-sequence. This is easier to explain with an example.\n",
    "\n",
    "In the previous lesson we saw how to create a new list from the items in a list; we took a list of proportions and multiplied each proportion by 100 to get its percentage equivalent. We also saw how to loop through the keys and values in a dictionary. In this lesson we're going to combine these two concepts.\n",
    "\n",
    "Imagine that we have a data structure that contains, for each year, a list of the proportions of total sales each quarter that came from a particular product:"
   ]
  },
  {
   "cell_type": "code",
   "execution_count": 1,
   "metadata": {
    "collapsed": false
   },
   "outputs": [],
   "source": [
    "dataProp = {2009 : [0.12,0.22,0.35,0.41],\n",
    "       2010 : [0.15, 0.36, 0.47, 0.62],\n",
    "       2011 : [0.07, 0.14, 0.27, 0.29],\n",
    "       2012 : [0.05, 0.13, 0.15, 0.26]}"
   ]
  },
  {
   "cell_type": "markdown",
   "metadata": {},
   "source": [
    "We saw in the last lesson that we could loop through the items in a list and do an operation to each item. In the cell below, I loop through each value in the list of proportions for 2009 and create a new list with the percentages:"
   ]
  },
  {
   "cell_type": "code",
   "execution_count": 2,
   "metadata": {
    "collapsed": false
   },
   "outputs": [
    {
     "data": {
      "text/plain": [
       "[12.0, 22.0, 35.0, 41.0]"
      ]
     },
     "execution_count": 2,
     "metadata": {},
     "output_type": "execute_result"
    }
   ],
   "source": [
    "perc2009 = []\n",
    "\n",
    "for prop in dataProp[2009]:\n",
    "    perc2009.append(prop * 100)\n",
    "    \n",
    "perc2009"
   ]
  },
  {
   "cell_type": "markdown",
   "metadata": {},
   "source": [
    "We also saw how to loop through the items in a dictionary. Here, I'm looping through the items in the <code>dataProp</code> dictionary and creating a new list with the proportions of sales from that product over all the years:"
   ]
  },
  {
   "cell_type": "code",
   "execution_count": 3,
   "metadata": {
    "collapsed": false
   },
   "outputs": [
    {
     "data": {
      "text/plain": [
       "[0.12,\n",
       " 0.22,\n",
       " 0.35,\n",
       " 0.41,\n",
       " 0.15,\n",
       " 0.36,\n",
       " 0.47,\n",
       " 0.62,\n",
       " 0.07,\n",
       " 0.14,\n",
       " 0.27,\n",
       " 0.29,\n",
       " 0.05,\n",
       " 0.13,\n",
       " 0.15,\n",
       " 0.26]"
      ]
     },
     "execution_count": 3,
     "metadata": {},
     "output_type": "execute_result"
    }
   ],
   "source": [
    "allSales = []\n",
    "\n",
    "for year in dataProp.values():\n",
    "    allSales = allSales + year\n",
    "    \n",
    "allSales"
   ]
  },
  {
   "cell_type": "markdown",
   "metadata": {
    "collapsed": true
   },
   "source": [
    "But what if we wanted to do both of these things? What if we wanted a list of all the percentages of the total sales which are attirbuted to that item?\n",
    "\n",
    "We could do it in two steps:\n",
    "\n",
    "(I'm converting to an integer because of the way <a href=\"https://docs.python.org/3.1/tutorial/floatingpoint.html\">floats are represented by Python</a> - try it without <code>int()</code>)"
   ]
  },
  {
   "cell_type": "code",
   "execution_count": 4,
   "metadata": {
    "collapsed": false
   },
   "outputs": [
    {
     "data": {
      "text/plain": [
       "[12, 22, 35, 41, 15, 36, 47, 62, 7, 14, 27, 28, 5, 13, 15, 26]"
      ]
     },
     "execution_count": 4,
     "metadata": {},
     "output_type": "execute_result"
    }
   ],
   "source": [
    "allSales = []\n",
    "\n",
    "for year in dataProp.values():\n",
    "    allSales = allSales + year\n",
    "    \n",
    "salePercentages = []\n",
    "\n",
    "for sale in allSales:\n",
    "    salePercentages.append(int(sale * 100))\n",
    "    \n",
    "salePercentages"
   ]
  },
  {
   "cell_type": "markdown",
   "metadata": {},
   "source": [
    "But we can also achieve the same result by using a nested loop.\n",
    "\n",
    "## How do nested loops work?\n",
    "\n",
    "When we nest one loop inside another we aren't creating two loops which run one after the other, we are actually creating a hierarchy of loops, with one loop running inside the other.\n",
    "\n",
    "The syntax is as follows, note that we must give a different name to the variable which records our position in each loop:\n",
    "````python\n",
    "for item1 in outerloop:\n",
    "    <do something>\n",
    "    for item2 in innerloop:\n",
    "        <do something>\n",
    "````\n",
    "\n",
    "For each item in the outer loop, the inner loop will run through all the items in a sequence. This means that the inner loop will run many times. For examaple, if we have 5 items in the outer loop and 5 in the inner loop, the inner loop will run 25 times. With ten in each loop, the inner loop will run 100 times. It's therefore really important to consider how many loops will run!\n",
    "\n",
    "The code in the cell below shows you how the loops operate; before you run it, consider what you expect the loop to do:"
   ]
  },
  {
   "cell_type": "code",
   "execution_count": 5,
   "metadata": {
    "collapsed": false
   },
   "outputs": [
    {
     "name": "stdout",
     "output_type": "stream",
     "text": [
      "1 a\n",
      "1 b\n",
      "1 c\n",
      "1 d\n",
      "1 e\n",
      "2 a\n",
      "2 b\n",
      "2 c\n",
      "2 d\n",
      "2 e\n",
      "3 a\n",
      "3 b\n",
      "3 c\n",
      "3 d\n",
      "3 e\n",
      "4 a\n",
      "4 b\n",
      "4 c\n",
      "4 d\n",
      "4 e\n",
      "5 a\n",
      "5 b\n",
      "5 c\n",
      "5 d\n",
      "5 e\n"
     ]
    }
   ],
   "source": [
    "outerLoop = [1, 2, 3, 4, 5]\n",
    "innerLoop = ['a', 'b', 'c', 'd', 'e']\n",
    "\n",
    "for item1 in outerLoop:\n",
    "    for item2 in innerLoop:\n",
    "        print(item1, item2)"
   ]
  },
  {
   "cell_type": "markdown",
   "metadata": {},
   "source": [
    "So, the outer loop counts up from 1 to 5, whilst the inner loop goes through the alphabet from a to e. For every number in the outer loop, the inner loop counts through the five letters. This behaviour is consistent in all nested loops."
   ]
  },
  {
   "cell_type": "markdown",
   "metadata": {},
   "source": [
    "## Using Nested Loops\n",
    "\n",
    "So let's apply what we've learnt to the problem I posed earlier:\n",
    "\n",
    "##### How can we make a list of the percentages of sales for each quarter over all of the years?\n",
    "\n",
    "Well, first we know that we need to create an empty list and loop through the data dictionary:"
   ]
  },
  {
   "cell_type": "code",
   "execution_count": 6,
   "metadata": {
    "collapsed": false
   },
   "outputs": [
    {
     "name": "stdout",
     "output_type": "stream",
     "text": [
      "[0.12, 0.22, 0.35, 0.41]\n",
      "[0.15, 0.36, 0.47, 0.62]\n",
      "[0.07, 0.14, 0.27, 0.29]\n",
      "[0.05, 0.13, 0.15, 0.26]\n"
     ]
    }
   ],
   "source": [
    "percentages = []\n",
    "\n",
    "for d in dataProp.values():\n",
    "    print(d)"
   ]
  },
  {
   "cell_type": "markdown",
   "metadata": {},
   "source": [
    "Next, within the loop that cycles through the lists in the dictionary, we need to create a loop which cycles through each item in the list:"
   ]
  },
  {
   "cell_type": "code",
   "execution_count": 7,
   "metadata": {
    "collapsed": false
   },
   "outputs": [
    {
     "name": "stdout",
     "output_type": "stream",
     "text": [
      "0.12\n",
      "0.22\n",
      "0.35\n",
      "0.41\n",
      "0.15\n",
      "0.36\n",
      "0.47\n",
      "0.62\n",
      "0.07\n",
      "0.14\n",
      "0.27\n",
      "0.29\n",
      "0.05\n",
      "0.13\n",
      "0.15\n",
      "0.26\n"
     ]
    }
   ],
   "source": [
    "for d in dataProp.values():\n",
    "    for item in d:\n",
    "        print(item)"
   ]
  },
  {
   "cell_type": "markdown",
   "metadata": {},
   "source": [
    "Now, we can append each item in turn to the <code>percentages</code> list (and multiply by 100 to get the percentage):"
   ]
  },
  {
   "cell_type": "code",
   "execution_count": 8,
   "metadata": {
    "collapsed": false
   },
   "outputs": [
    {
     "data": {
      "text/plain": [
       "[12, 22, 35, 41, 15, 36, 47, 62, 7, 14, 27, 28, 5, 13, 15, 26]"
      ]
     },
     "execution_count": 8,
     "metadata": {},
     "output_type": "execute_result"
    }
   ],
   "source": [
    "for d in dataProp.values():\n",
    "    for item in d:\n",
    "        percentages.append(int(item * 100))\n",
    "        \n",
    "percentages"
   ]
  },
  {
   "cell_type": "markdown",
   "metadata": {},
   "source": [
    "### What have we learnt this lesson?"
   ]
  },
  {
   "cell_type": "markdown",
   "metadata": {},
   "source": [
    "In this lesson we reviewed how to loop through the items in a dictionary or a list. We learnt how to create a nested loop, and what behaviour to expect from the inner and outer loops. We then applied this knowledge to loop through the items in a dictionary of lists of data and append these items to a master list of percentages."
   ]
  },
  {
   "cell_type": "markdown",
   "metadata": {},
   "source": [
    "If you have any questions, please ask in the comments section or email <a href=\"mailto:me@richard-muir.com\">me@richard-muir.com</a>"
   ]
  }
 ],
 "metadata": {
  "kernelspec": {
   "display_name": "Python 3",
   "language": "python",
   "name": "python3"
  },
  "language_info": {
   "codemirror_mode": {
    "name": "ipython",
    "version": 3
   },
   "file_extension": ".py",
   "mimetype": "text/x-python",
   "name": "python",
   "nbconvert_exporter": "python",
   "pygments_lexer": "ipython3",
   "version": "3.4.5"
  }
 },
 "nbformat": 4,
 "nbformat_minor": 0
}
