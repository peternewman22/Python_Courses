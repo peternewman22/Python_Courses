{
 "cells": [
  {
   "cell_type": "markdown",
   "metadata": {},
   "source": [
    "# Functions (2) - Using Functions"
   ]
  },
  {
   "cell_type": "markdown",
   "metadata": {},
   "source": [
    "In the last lesson we saw how to create a function using the <code>def</code> keyword. We found out how to pass arguments to a function and how to use these arguments within the function. Finally, we learnt how to return one or many objects from the function, and that we need to assign the output of the function to a variable (or variables).\n",
    "\n",
    "In this lesson we're going to practise writing functions. We'll write a few practise functions to help us review what we learnt in the last lesson, before  writing a function that we'll actually be able to use when making our charts.\n",
    "\n",
    "## Review - Writing some simple functions\n",
    "\n",
    "We'll use this as a opportunity to practise what you've learnt about functions, the exercises below use concepts which you have already learnt in this course.\n",
    "\n",
    "### 1\n",
    "Your first challenge is to write a function which takes one string and one number (n). The function should return a string that is n copies of the string:\n",
    "\n",
    "````\n",
    "stringMultiply('hi', 5) --> 'hihihihihi'\n",
    "stringMultiply('one', 2) --> 'oneone'\n",
    "````"
   ]
  },
  {
   "cell_type": "markdown",
   "metadata": {},
   "source": [
    "### 2\n",
    "Write a function which takes two strings and returns the longer of the two strings. If the strings are the same length return one string which is both strings concatenated together:\n",
    "\n",
    "````\n",
    "stringCompare('hi', 'hiya') --> 'hiya'\n",
    "stringCompare('hi', 'ab') --> 'hiab'\n",
    "````"
   ]
  },
  {
   "cell_type": "markdown",
   "metadata": {},
   "source": [
    "### 3\n",
    "Write a function which takes one string and one number (n) as inputs. The function should return a string which is the concatenation of the first n characters and the last n characters of the string. If the length of the string is less than n, the function should return \"I'm sorry Dave, I can't do that.\".\n",
    "\n",
    "````\n",
    "stringFirstLast('purple', 2) --> 'pule'\n",
    "stringFirstLast('hi', 2) --> 'hihi'\n",
    "stringFirstLast('hi', 3) --> \"I'm sorry Dave, I can't do that.\"\n",
    "````"
   ]
  },
  {
   "cell_type": "markdown",
   "metadata": {},
   "source": [
    "## Answers\n",
    "\n",
    "These answers do not show the only way of solving the problem, as with everything in programming, there are several solutions!\n",
    "\n",
    "### 1"
   ]
  },
  {
   "cell_type": "code",
   "execution_count": 1,
   "metadata": {
    "collapsed": false
   },
   "outputs": [
    {
     "name": "stdout",
     "output_type": "stream",
     "text": [
      "hihihihihi oneone\n"
     ]
    }
   ],
   "source": [
    "def stringMultiply(stringIn, number):\n",
    "    return stringIn * number\n",
    "\n",
    "test1 = stringMultiply('hi', 5)\n",
    "test2 = stringMultiply('one', 2)\n",
    "\n",
    "print(test1, test2)"
   ]
  },
  {
   "cell_type": "markdown",
   "metadata": {},
   "source": [
    "### 2"
   ]
  },
  {
   "cell_type": "code",
   "execution_count": 2,
   "metadata": {
    "collapsed": false
   },
   "outputs": [
    {
     "name": "stdout",
     "output_type": "stream",
     "text": [
      "hiya hiab\n"
     ]
    }
   ],
   "source": [
    "def stringCompare(string1, string2):\n",
    "    if len(string1) > len(string2):\n",
    "        return string1\n",
    "    elif len(string2) > len(string1):\n",
    "        return string2\n",
    "    else:\n",
    "        return string1 + string2\n",
    "    \n",
    "test3 = stringCompare('hi', 'hiya')\n",
    "test4 = stringCompare('hi', 'ab') \n",
    "\n",
    "print(test3, test4)"
   ]
  },
  {
   "cell_type": "code",
   "execution_count": 3,
   "metadata": {
    "collapsed": false
   },
   "outputs": [
    {
     "name": "stdout",
     "output_type": "stream",
     "text": [
      "pule hihi I'm sorry Dave, I can't do that.\n"
     ]
    }
   ],
   "source": [
    "def stringFirstLast(stringIn, number):\n",
    "    if number > len(stringIn):\n",
    "        return \"I'm sorry Dave, I can't do that.\"\n",
    "    else:\n",
    "        return stringIn[:number] + stringIn[-number:]\n",
    "\n",
    "test5 = stringFirstLast('purple', 2)\n",
    "test6 = stringFirstLast('hi', 2) \n",
    "test7 = stringFirstLast('hi', 3) \n",
    "\n",
    "print(test5, test6, test7)"
   ]
  },
  {
   "cell_type": "markdown",
   "metadata": {
    "collapsed": false
   },
   "source": [
    "## Using functions to help us create awesome visualisations\n",
    "\n",
    "So hopefully you're feeling well-practised and ready to apply what we've learnt!\n",
    "\n",
    "In this lesson we'll explore a couple of different use cases for functions which we'll apply later in the course.\n",
    "\n",
    "### Using functions to set the colour of a data item\n",
    "\n",
    "Colour is an incredibly important aspect of any visualisation. We can use colour to group different data together, or to set them apart. In this example, we'll write a function which will set the colour of a data item depending on it's value. This function is directly applicable to code which we'll write; you can set the colours in Plotly by using the colour names (as well as in many other ways too!).\n",
    "\n",
    "Have a go at writing the function yourself according to the specification below. If you get stuck, have a peek at the answer! Remember, there's always more than one solution, so don't take my version as the only way. If you code something and it works; great!\n",
    "\n",
    "##### Write  a function that takes two numbers as inputs. The first number is the value of the data item, and the second is the threshold at which we want the colour of that data item to change. The function should return 'Blue' if the first number is less than or equal to the second, and 'Red' otherwise.\n",
    "\n",
    "````\n",
    "chooseColour(50, 60) --> 'Blue'\n",
    "chooseColour(50, 40) --> 'Red'\n",
    "````"
   ]
  },
  {
   "cell_type": "code",
   "execution_count": 4,
   "metadata": {
    "collapsed": false
   },
   "outputs": [
    {
     "name": "stdout",
     "output_type": "stream",
     "text": [
      "Blue Red\n"
     ]
    }
   ],
   "source": [
    "def chooseColour(value, threshold):\n",
    "    if value <= threshold:\n",
    "        return 'Blue'\n",
    "    else:\n",
    "        return 'Red'\n",
    "    \n",
    "test1 = chooseColour(50,60)\n",
    "test2 = chooseColour(50,40)\n",
    "\n",
    "print(test1, test2)"
   ]
  },
  {
   "cell_type": "markdown",
   "metadata": {},
   "source": [
    "### What have we learnt this lesson?"
   ]
  },
  {
   "cell_type": "markdown",
   "metadata": {},
   "source": [
    "In this lesson we've reviewed how to write functions. We did three practise functions to solidify the knowledge from the last lesson, and we also created two helper functions which we'll be able to reuse throughout the course."
   ]
  },
  {
   "cell_type": "markdown",
   "metadata": {},
   "source": [
    "If you have any questions, please ask in the comments section or email <a href=\"mailto:me@richard-muir.com\">me@richard-muir.com</a>"
   ]
  }
 ],
 "metadata": {
  "kernelspec": {
   "display_name": "Python 3",
   "language": "python",
   "name": "python3"
  },
  "language_info": {
   "codemirror_mode": {
    "name": "ipython",
    "version": 3
   },
   "file_extension": ".py",
   "mimetype": "text/x-python",
   "name": "python",
   "nbconvert_exporter": "python",
   "pygments_lexer": "ipython3",
   "version": "3.4.5"
  }
 },
 "nbformat": 4,
 "nbformat_minor": 0
}
