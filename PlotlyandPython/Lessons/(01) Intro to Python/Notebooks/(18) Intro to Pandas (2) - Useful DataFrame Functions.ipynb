{
 "cells": [
  {
   "cell_type": "markdown",
   "metadata": {},
   "source": [
    "# Intro to Pandas (2) - Useful DataFrame Functions"
   ]
  },
  {
   "cell_type": "markdown",
   "metadata": {},
   "source": [
    "In the last lesson we saw how to read data into a Pandas DataFrame from a .csv file on the internet or on your local machine and we also saw how to account for escape characters when reading a .csv file from a different folder in your local machine.\n",
    "\n",
    "In this lesson we're going to look at some useful DataFrame functions and methods. Whilst we won't use these directly to plot data, utilising these will make your life a lot easier!"
   ]
  },
  {
   "cell_type": "markdown",
   "metadata": {},
   "source": [
    "## Module Imports"
   ]
  },
  {
   "cell_type": "code",
   "execution_count": 1,
   "metadata": {
    "collapsed": false
   },
   "outputs": [],
   "source": [
    "#plotly.offline doesn't push your charts to the clouds\n",
    "import plotly.offline as pyo\n",
    "#allows us to create the Data and Figure objects\n",
    "from plotly.graph_objs import *\n",
    "#plotly.plotly pushes your charts to the cloud  \n",
    "import plotly.plotly as py\n",
    "\n",
    "#pandas is a data analysis library\n",
    "import pandas as pd\n",
    "from pandas import DataFrame"
   ]
  },
  {
   "cell_type": "markdown",
   "metadata": {
    "collapsed": false
   },
   "source": [
    "## Using DataFrames"
   ]
  },
  {
   "cell_type": "markdown",
   "metadata": {
    "collapsed": true
   },
   "source": [
    "Before we can learn about some useful DataFrame functions, we first need to create one. This time I'm going to assign the DataFrame to an object, rather than just display it.\n",
    "\n",
    "We can see the DataFrame by typing the object name on its own line:"
   ]
  },
  {
   "cell_type": "code",
   "execution_count": 2,
   "metadata": {
    "collapsed": false
   },
   "outputs": [
    {
     "data": {
      "text/html": [
       "<div>\n",
       "<table border=\"1\" class=\"dataframe\">\n",
       "  <thead>\n",
       "    <tr style=\"text-align: right;\">\n",
       "      <th></th>\n",
       "      <th>VALUE</th>\n",
       "      <th>DATE</th>\n",
       "    </tr>\n",
       "  </thead>\n",
       "  <tbody>\n",
       "    <tr>\n",
       "      <th>0</th>\n",
       "      <td>11.50</td>\n",
       "      <td>02/01/1975</td>\n",
       "    </tr>\n",
       "    <tr>\n",
       "      <th>1</th>\n",
       "      <td>11.50</td>\n",
       "      <td>03/01/1975</td>\n",
       "    </tr>\n",
       "    <tr>\n",
       "      <th>2</th>\n",
       "      <td>11.50</td>\n",
       "      <td>06/01/1975</td>\n",
       "    </tr>\n",
       "    <tr>\n",
       "      <th>3</th>\n",
       "      <td>11.50</td>\n",
       "      <td>07/01/1975</td>\n",
       "    </tr>\n",
       "    <tr>\n",
       "      <th>4</th>\n",
       "      <td>11.50</td>\n",
       "      <td>08/01/1975</td>\n",
       "    </tr>\n",
       "    <tr>\n",
       "      <th>5</th>\n",
       "      <td>11.50</td>\n",
       "      <td>09/01/1975</td>\n",
       "    </tr>\n",
       "    <tr>\n",
       "      <th>6</th>\n",
       "      <td>11.50</td>\n",
       "      <td>10/01/1975</td>\n",
       "    </tr>\n",
       "    <tr>\n",
       "      <th>7</th>\n",
       "      <td>11.50</td>\n",
       "      <td>13/01/1975</td>\n",
       "    </tr>\n",
       "    <tr>\n",
       "      <th>8</th>\n",
       "      <td>11.50</td>\n",
       "      <td>14/01/1975</td>\n",
       "    </tr>\n",
       "    <tr>\n",
       "      <th>9</th>\n",
       "      <td>11.50</td>\n",
       "      <td>15/01/1975</td>\n",
       "    </tr>\n",
       "    <tr>\n",
       "      <th>10</th>\n",
       "      <td>11.50</td>\n",
       "      <td>16/01/1975</td>\n",
       "    </tr>\n",
       "    <tr>\n",
       "      <th>11</th>\n",
       "      <td>11.50</td>\n",
       "      <td>17/01/1975</td>\n",
       "    </tr>\n",
       "    <tr>\n",
       "      <th>12</th>\n",
       "      <td>11.25</td>\n",
       "      <td>20/01/1975</td>\n",
       "    </tr>\n",
       "    <tr>\n",
       "      <th>13</th>\n",
       "      <td>11.25</td>\n",
       "      <td>21/01/1975</td>\n",
       "    </tr>\n",
       "    <tr>\n",
       "      <th>14</th>\n",
       "      <td>11.25</td>\n",
       "      <td>22/01/1975</td>\n",
       "    </tr>\n",
       "    <tr>\n",
       "      <th>15</th>\n",
       "      <td>11.25</td>\n",
       "      <td>23/01/1975</td>\n",
       "    </tr>\n",
       "    <tr>\n",
       "      <th>16</th>\n",
       "      <td>11.25</td>\n",
       "      <td>24/01/1975</td>\n",
       "    </tr>\n",
       "    <tr>\n",
       "      <th>17</th>\n",
       "      <td>11.00</td>\n",
       "      <td>27/01/1975</td>\n",
       "    </tr>\n",
       "    <tr>\n",
       "      <th>18</th>\n",
       "      <td>11.00</td>\n",
       "      <td>28/01/1975</td>\n",
       "    </tr>\n",
       "    <tr>\n",
       "      <th>19</th>\n",
       "      <td>11.00</td>\n",
       "      <td>29/01/1975</td>\n",
       "    </tr>\n",
       "    <tr>\n",
       "      <th>20</th>\n",
       "      <td>11.00</td>\n",
       "      <td>30/01/1975</td>\n",
       "    </tr>\n",
       "    <tr>\n",
       "      <th>21</th>\n",
       "      <td>11.00</td>\n",
       "      <td>31/01/1975</td>\n",
       "    </tr>\n",
       "    <tr>\n",
       "      <th>22</th>\n",
       "      <td>11.00</td>\n",
       "      <td>03/02/1975</td>\n",
       "    </tr>\n",
       "    <tr>\n",
       "      <th>23</th>\n",
       "      <td>11.00</td>\n",
       "      <td>04/02/1975</td>\n",
       "    </tr>\n",
       "    <tr>\n",
       "      <th>24</th>\n",
       "      <td>11.00</td>\n",
       "      <td>05/02/1975</td>\n",
       "    </tr>\n",
       "    <tr>\n",
       "      <th>25</th>\n",
       "      <td>11.00</td>\n",
       "      <td>06/02/1975</td>\n",
       "    </tr>\n",
       "    <tr>\n",
       "      <th>26</th>\n",
       "      <td>11.00</td>\n",
       "      <td>07/02/1975</td>\n",
       "    </tr>\n",
       "    <tr>\n",
       "      <th>27</th>\n",
       "      <td>10.75</td>\n",
       "      <td>10/02/1975</td>\n",
       "    </tr>\n",
       "    <tr>\n",
       "      <th>28</th>\n",
       "      <td>10.75</td>\n",
       "      <td>11/02/1975</td>\n",
       "    </tr>\n",
       "    <tr>\n",
       "      <th>29</th>\n",
       "      <td>10.75</td>\n",
       "      <td>12/02/1975</td>\n",
       "    </tr>\n",
       "    <tr>\n",
       "      <th>...</th>\n",
       "      <td>...</td>\n",
       "      <td>...</td>\n",
       "    </tr>\n",
       "    <tr>\n",
       "      <th>10456</th>\n",
       "      <td>0.50</td>\n",
       "      <td>12/05/2016</td>\n",
       "    </tr>\n",
       "    <tr>\n",
       "      <th>10457</th>\n",
       "      <td>0.50</td>\n",
       "      <td>13/05/2016</td>\n",
       "    </tr>\n",
       "    <tr>\n",
       "      <th>10458</th>\n",
       "      <td>0.50</td>\n",
       "      <td>16/05/2016</td>\n",
       "    </tr>\n",
       "    <tr>\n",
       "      <th>10459</th>\n",
       "      <td>0.50</td>\n",
       "      <td>17/05/2016</td>\n",
       "    </tr>\n",
       "    <tr>\n",
       "      <th>10460</th>\n",
       "      <td>0.50</td>\n",
       "      <td>18/05/2016</td>\n",
       "    </tr>\n",
       "    <tr>\n",
       "      <th>10461</th>\n",
       "      <td>0.50</td>\n",
       "      <td>19/05/2016</td>\n",
       "    </tr>\n",
       "    <tr>\n",
       "      <th>10462</th>\n",
       "      <td>0.50</td>\n",
       "      <td>20/05/2016</td>\n",
       "    </tr>\n",
       "    <tr>\n",
       "      <th>10463</th>\n",
       "      <td>0.50</td>\n",
       "      <td>23/05/2016</td>\n",
       "    </tr>\n",
       "    <tr>\n",
       "      <th>10464</th>\n",
       "      <td>0.50</td>\n",
       "      <td>24/05/2016</td>\n",
       "    </tr>\n",
       "    <tr>\n",
       "      <th>10465</th>\n",
       "      <td>0.50</td>\n",
       "      <td>25/05/2016</td>\n",
       "    </tr>\n",
       "    <tr>\n",
       "      <th>10466</th>\n",
       "      <td>0.50</td>\n",
       "      <td>26/05/2016</td>\n",
       "    </tr>\n",
       "    <tr>\n",
       "      <th>10467</th>\n",
       "      <td>0.50</td>\n",
       "      <td>27/05/2016</td>\n",
       "    </tr>\n",
       "    <tr>\n",
       "      <th>10468</th>\n",
       "      <td>0.50</td>\n",
       "      <td>31/05/2016</td>\n",
       "    </tr>\n",
       "    <tr>\n",
       "      <th>10469</th>\n",
       "      <td>0.50</td>\n",
       "      <td>01/06/2016</td>\n",
       "    </tr>\n",
       "    <tr>\n",
       "      <th>10470</th>\n",
       "      <td>0.50</td>\n",
       "      <td>02/06/2016</td>\n",
       "    </tr>\n",
       "    <tr>\n",
       "      <th>10471</th>\n",
       "      <td>0.50</td>\n",
       "      <td>03/06/2016</td>\n",
       "    </tr>\n",
       "    <tr>\n",
       "      <th>10472</th>\n",
       "      <td>0.50</td>\n",
       "      <td>06/06/2016</td>\n",
       "    </tr>\n",
       "    <tr>\n",
       "      <th>10473</th>\n",
       "      <td>0.50</td>\n",
       "      <td>07/06/2016</td>\n",
       "    </tr>\n",
       "    <tr>\n",
       "      <th>10474</th>\n",
       "      <td>0.50</td>\n",
       "      <td>08/06/2016</td>\n",
       "    </tr>\n",
       "    <tr>\n",
       "      <th>10475</th>\n",
       "      <td>0.50</td>\n",
       "      <td>09/06/2016</td>\n",
       "    </tr>\n",
       "    <tr>\n",
       "      <th>10476</th>\n",
       "      <td>0.50</td>\n",
       "      <td>10/06/2016</td>\n",
       "    </tr>\n",
       "    <tr>\n",
       "      <th>10477</th>\n",
       "      <td>0.50</td>\n",
       "      <td>13/06/2016</td>\n",
       "    </tr>\n",
       "    <tr>\n",
       "      <th>10478</th>\n",
       "      <td>0.50</td>\n",
       "      <td>14/06/2016</td>\n",
       "    </tr>\n",
       "    <tr>\n",
       "      <th>10479</th>\n",
       "      <td>0.50</td>\n",
       "      <td>15/06/2016</td>\n",
       "    </tr>\n",
       "    <tr>\n",
       "      <th>10480</th>\n",
       "      <td>0.50</td>\n",
       "      <td>16/06/2016</td>\n",
       "    </tr>\n",
       "    <tr>\n",
       "      <th>10481</th>\n",
       "      <td>0.50</td>\n",
       "      <td>17/06/2016</td>\n",
       "    </tr>\n",
       "    <tr>\n",
       "      <th>10482</th>\n",
       "      <td>0.50</td>\n",
       "      <td>20/06/2016</td>\n",
       "    </tr>\n",
       "    <tr>\n",
       "      <th>10483</th>\n",
       "      <td>0.50</td>\n",
       "      <td>21/06/2016</td>\n",
       "    </tr>\n",
       "    <tr>\n",
       "      <th>10484</th>\n",
       "      <td>0.50</td>\n",
       "      <td>22/06/2016</td>\n",
       "    </tr>\n",
       "    <tr>\n",
       "      <th>10485</th>\n",
       "      <td>0.50</td>\n",
       "      <td>23/06/2016</td>\n",
       "    </tr>\n",
       "  </tbody>\n",
       "</table>\n",
       "<p>10486 rows × 2 columns</p>\n",
       "</div>"
      ],
      "text/plain": [
       "       VALUE        DATE\n",
       "0      11.50  02/01/1975\n",
       "1      11.50  03/01/1975\n",
       "2      11.50  06/01/1975\n",
       "3      11.50  07/01/1975\n",
       "4      11.50  08/01/1975\n",
       "5      11.50  09/01/1975\n",
       "6      11.50  10/01/1975\n",
       "7      11.50  13/01/1975\n",
       "8      11.50  14/01/1975\n",
       "9      11.50  15/01/1975\n",
       "10     11.50  16/01/1975\n",
       "11     11.50  17/01/1975\n",
       "12     11.25  20/01/1975\n",
       "13     11.25  21/01/1975\n",
       "14     11.25  22/01/1975\n",
       "15     11.25  23/01/1975\n",
       "16     11.25  24/01/1975\n",
       "17     11.00  27/01/1975\n",
       "18     11.00  28/01/1975\n",
       "19     11.00  29/01/1975\n",
       "20     11.00  30/01/1975\n",
       "21     11.00  31/01/1975\n",
       "22     11.00  03/02/1975\n",
       "23     11.00  04/02/1975\n",
       "24     11.00  05/02/1975\n",
       "25     11.00  06/02/1975\n",
       "26     11.00  07/02/1975\n",
       "27     10.75  10/02/1975\n",
       "28     10.75  11/02/1975\n",
       "29     10.75  12/02/1975\n",
       "...      ...         ...\n",
       "10456   0.50  12/05/2016\n",
       "10457   0.50  13/05/2016\n",
       "10458   0.50  16/05/2016\n",
       "10459   0.50  17/05/2016\n",
       "10460   0.50  18/05/2016\n",
       "10461   0.50  19/05/2016\n",
       "10462   0.50  20/05/2016\n",
       "10463   0.50  23/05/2016\n",
       "10464   0.50  24/05/2016\n",
       "10465   0.50  25/05/2016\n",
       "10466   0.50  26/05/2016\n",
       "10467   0.50  27/05/2016\n",
       "10468   0.50  31/05/2016\n",
       "10469   0.50  01/06/2016\n",
       "10470   0.50  02/06/2016\n",
       "10471   0.50  03/06/2016\n",
       "10472   0.50  06/06/2016\n",
       "10473   0.50  07/06/2016\n",
       "10474   0.50  08/06/2016\n",
       "10475   0.50  09/06/2016\n",
       "10476   0.50  10/06/2016\n",
       "10477   0.50  13/06/2016\n",
       "10478   0.50  14/06/2016\n",
       "10479   0.50  15/06/2016\n",
       "10480   0.50  16/06/2016\n",
       "10481   0.50  17/06/2016\n",
       "10482   0.50  20/06/2016\n",
       "10483   0.50  21/06/2016\n",
       "10484   0.50  22/06/2016\n",
       "10485   0.50  23/06/2016\n",
       "\n",
       "[10486 rows x 2 columns]"
      ]
     },
     "execution_count": 2,
     "metadata": {},
     "output_type": "execute_result"
    }
   ],
   "source": [
    "baseRateData = pd.read_csv(\"http://www.richard-muir.com/data/public/csv/BoEBaseRate.csv\")\n",
    "\n",
    "baseRateData"
   ]
  },
  {
   "cell_type": "markdown",
   "metadata": {},
   "source": [
    "This DataFrame is really long, and it's a pain to keep scrolling up to see the column names. We can use <code>df.head(x)</code> to see the top x rows (df is the conventional abbreviation for DataFrame, which I'll use throughout the course). \n",
    "\n",
    "The default number of rows is 5. Note that this doesn't change the DataFrame, merely how it is displayed on the screen."
   ]
  },
  {
   "cell_type": "code",
   "execution_count": 3,
   "metadata": {
    "collapsed": false,
    "scrolled": true
   },
   "outputs": [
    {
     "data": {
      "text/html": [
       "<div>\n",
       "<table border=\"1\" class=\"dataframe\">\n",
       "  <thead>\n",
       "    <tr style=\"text-align: right;\">\n",
       "      <th></th>\n",
       "      <th>VALUE</th>\n",
       "      <th>DATE</th>\n",
       "    </tr>\n",
       "  </thead>\n",
       "  <tbody>\n",
       "    <tr>\n",
       "      <th>0</th>\n",
       "      <td>11.5</td>\n",
       "      <td>02/01/1975</td>\n",
       "    </tr>\n",
       "    <tr>\n",
       "      <th>1</th>\n",
       "      <td>11.5</td>\n",
       "      <td>03/01/1975</td>\n",
       "    </tr>\n",
       "    <tr>\n",
       "      <th>2</th>\n",
       "      <td>11.5</td>\n",
       "      <td>06/01/1975</td>\n",
       "    </tr>\n",
       "    <tr>\n",
       "      <th>3</th>\n",
       "      <td>11.5</td>\n",
       "      <td>07/01/1975</td>\n",
       "    </tr>\n",
       "    <tr>\n",
       "      <th>4</th>\n",
       "      <td>11.5</td>\n",
       "      <td>08/01/1975</td>\n",
       "    </tr>\n",
       "    <tr>\n",
       "      <th>5</th>\n",
       "      <td>11.5</td>\n",
       "      <td>09/01/1975</td>\n",
       "    </tr>\n",
       "    <tr>\n",
       "      <th>6</th>\n",
       "      <td>11.5</td>\n",
       "      <td>10/01/1975</td>\n",
       "    </tr>\n",
       "    <tr>\n",
       "      <th>7</th>\n",
       "      <td>11.5</td>\n",
       "      <td>13/01/1975</td>\n",
       "    </tr>\n",
       "    <tr>\n",
       "      <th>8</th>\n",
       "      <td>11.5</td>\n",
       "      <td>14/01/1975</td>\n",
       "    </tr>\n",
       "    <tr>\n",
       "      <th>9</th>\n",
       "      <td>11.5</td>\n",
       "      <td>15/01/1975</td>\n",
       "    </tr>\n",
       "  </tbody>\n",
       "</table>\n",
       "</div>"
      ],
      "text/plain": [
       "   VALUE        DATE\n",
       "0   11.5  02/01/1975\n",
       "1   11.5  03/01/1975\n",
       "2   11.5  06/01/1975\n",
       "3   11.5  07/01/1975\n",
       "4   11.5  08/01/1975\n",
       "5   11.5  09/01/1975\n",
       "6   11.5  10/01/1975\n",
       "7   11.5  13/01/1975\n",
       "8   11.5  14/01/1975\n",
       "9   11.5  15/01/1975"
      ]
     },
     "execution_count": 3,
     "metadata": {},
     "output_type": "execute_result"
    }
   ],
   "source": [
    "baseRateData.head(10)"
   ]
  },
  {
   "cell_type": "code",
   "execution_count": 4,
   "metadata": {
    "collapsed": false
   },
   "outputs": [
    {
     "data": {
      "text/html": [
       "<div>\n",
       "<table border=\"1\" class=\"dataframe\">\n",
       "  <thead>\n",
       "    <tr style=\"text-align: right;\">\n",
       "      <th></th>\n",
       "      <th>VALUE</th>\n",
       "      <th>DATE</th>\n",
       "    </tr>\n",
       "  </thead>\n",
       "  <tbody>\n",
       "    <tr>\n",
       "      <th>0</th>\n",
       "      <td>11.5</td>\n",
       "      <td>02/01/1975</td>\n",
       "    </tr>\n",
       "    <tr>\n",
       "      <th>1</th>\n",
       "      <td>11.5</td>\n",
       "      <td>03/01/1975</td>\n",
       "    </tr>\n",
       "    <tr>\n",
       "      <th>2</th>\n",
       "      <td>11.5</td>\n",
       "      <td>06/01/1975</td>\n",
       "    </tr>\n",
       "    <tr>\n",
       "      <th>3</th>\n",
       "      <td>11.5</td>\n",
       "      <td>07/01/1975</td>\n",
       "    </tr>\n",
       "    <tr>\n",
       "      <th>4</th>\n",
       "      <td>11.5</td>\n",
       "      <td>08/01/1975</td>\n",
       "    </tr>\n",
       "  </tbody>\n",
       "</table>\n",
       "</div>"
      ],
      "text/plain": [
       "   VALUE        DATE\n",
       "0   11.5  02/01/1975\n",
       "1   11.5  03/01/1975\n",
       "2   11.5  06/01/1975\n",
       "3   11.5  07/01/1975\n",
       "4   11.5  08/01/1975"
      ]
     },
     "execution_count": 4,
     "metadata": {},
     "output_type": "execute_result"
    }
   ],
   "source": [
    "baseRateData.head()"
   ]
  },
  {
   "cell_type": "markdown",
   "metadata": {},
   "source": [
    "We can also see the bottom x rows using <code>df.tail(x)</code>. Once again, the default is 5."
   ]
  },
  {
   "cell_type": "code",
   "execution_count": 5,
   "metadata": {
    "collapsed": false
   },
   "outputs": [
    {
     "data": {
      "text/html": [
       "<div>\n",
       "<table border=\"1\" class=\"dataframe\">\n",
       "  <thead>\n",
       "    <tr style=\"text-align: right;\">\n",
       "      <th></th>\n",
       "      <th>VALUE</th>\n",
       "      <th>DATE</th>\n",
       "    </tr>\n",
       "  </thead>\n",
       "  <tbody>\n",
       "    <tr>\n",
       "      <th>10481</th>\n",
       "      <td>0.5</td>\n",
       "      <td>17/06/2016</td>\n",
       "    </tr>\n",
       "    <tr>\n",
       "      <th>10482</th>\n",
       "      <td>0.5</td>\n",
       "      <td>20/06/2016</td>\n",
       "    </tr>\n",
       "    <tr>\n",
       "      <th>10483</th>\n",
       "      <td>0.5</td>\n",
       "      <td>21/06/2016</td>\n",
       "    </tr>\n",
       "    <tr>\n",
       "      <th>10484</th>\n",
       "      <td>0.5</td>\n",
       "      <td>22/06/2016</td>\n",
       "    </tr>\n",
       "    <tr>\n",
       "      <th>10485</th>\n",
       "      <td>0.5</td>\n",
       "      <td>23/06/2016</td>\n",
       "    </tr>\n",
       "  </tbody>\n",
       "</table>\n",
       "</div>"
      ],
      "text/plain": [
       "       VALUE        DATE\n",
       "10481    0.5  17/06/2016\n",
       "10482    0.5  20/06/2016\n",
       "10483    0.5  21/06/2016\n",
       "10484    0.5  22/06/2016\n",
       "10485    0.5  23/06/2016"
      ]
     },
     "execution_count": 5,
     "metadata": {},
     "output_type": "execute_result"
    }
   ],
   "source": [
    "baseRateData.tail(5)"
   ]
  },
  {
   "cell_type": "markdown",
   "metadata": {},
   "source": [
    "That's much more manageable!\n",
    "\n",
    "Before we start looking at more useful functions, let's take a quick tour of a DataFrame.\n",
    "\n",
    "You can see that this DataFrame has 10,486 rows (remember, Python is zero-indexed!) and 3 columns. The left-most column (in bold) is called the index. The index of the DataFrame doesn't necessarily hold any data; instead it allows us to access the data by its location.\n",
    "\n",
    "We can also see the column names of the DataFrame. Used in conjunction with the index, we can reference an exact cell within the DataFrame.\n",
    "\n",
    "We can get some more information about the DataFrame by using the <code>df.info()</code> method."
   ]
  },
  {
   "cell_type": "code",
   "execution_count": 6,
   "metadata": {
    "collapsed": false
   },
   "outputs": [
    {
     "name": "stdout",
     "output_type": "stream",
     "text": [
      "<class 'pandas.core.frame.DataFrame'>\n",
      "RangeIndex: 10486 entries, 0 to 10485\n",
      "Data columns (total 2 columns):\n",
      "VALUE    10486 non-null float64\n",
      "DATE     10486 non-null object\n",
      "dtypes: float64(1), object(1)\n",
      "memory usage: 163.9+ KB\n"
     ]
    }
   ],
   "source": [
    "baseRateData.info()"
   ]
  },
  {
   "cell_type": "markdown",
   "metadata": {},
   "source": [
    "This tells us that we are inspecting a DataFrame and that the DataFrame has 10,486 rows (indexed from 0-10,485), and 2 data columns (the index doesn't hold data). It also gives us some information about the type of data stored in each column, as well as the approximate amount of RAM used to hold it.\n",
    "\n",
    "We can get some statistical information on numeric columns by using the <code>df.describe()</code> method:"
   ]
  },
  {
   "cell_type": "code",
   "execution_count": 7,
   "metadata": {
    "collapsed": false
   },
   "outputs": [
    {
     "data": {
      "text/html": [
       "<div>\n",
       "<table border=\"1\" class=\"dataframe\">\n",
       "  <thead>\n",
       "    <tr style=\"text-align: right;\">\n",
       "      <th></th>\n",
       "      <th>VALUE</th>\n",
       "    </tr>\n",
       "  </thead>\n",
       "  <tbody>\n",
       "    <tr>\n",
       "      <th>count</th>\n",
       "      <td>10486.000000</td>\n",
       "    </tr>\n",
       "    <tr>\n",
       "      <th>mean</th>\n",
       "      <td>7.135085</td>\n",
       "    </tr>\n",
       "    <tr>\n",
       "      <th>std</th>\n",
       "      <td>4.515003</td>\n",
       "    </tr>\n",
       "    <tr>\n",
       "      <th>min</th>\n",
       "      <td>0.500000</td>\n",
       "    </tr>\n",
       "    <tr>\n",
       "      <th>25%</th>\n",
       "      <td>4.500000</td>\n",
       "    </tr>\n",
       "    <tr>\n",
       "      <th>50%</th>\n",
       "      <td>6.125000</td>\n",
       "    </tr>\n",
       "    <tr>\n",
       "      <th>75%</th>\n",
       "      <td>10.562500</td>\n",
       "    </tr>\n",
       "    <tr>\n",
       "      <th>max</th>\n",
       "      <td>17.000000</td>\n",
       "    </tr>\n",
       "  </tbody>\n",
       "</table>\n",
       "</div>"
      ],
      "text/plain": [
       "              VALUE\n",
       "count  10486.000000\n",
       "mean       7.135085\n",
       "std        4.515003\n",
       "min        0.500000\n",
       "25%        4.500000\n",
       "50%        6.125000\n",
       "75%       10.562500\n",
       "max       17.000000"
      ]
     },
     "execution_count": 7,
     "metadata": {},
     "output_type": "execute_result"
    }
   ],
   "source": [
    "baseRateData.describe()"
   ]
  },
  {
   "cell_type": "markdown",
   "metadata": {},
   "source": [
    "This has given us some summary statistics for the <code>VALUE</code> column, for example we can see that the average base rate for the time period is 7.14%. This is useful to allow you to get an idea of the shape of your data - if it does not look as you expect after plotting it, something may have gone wrong along the way!"
   ]
  },
  {
   "cell_type": "markdown",
   "metadata": {},
   "source": [
    "Finally, we can get the column names in a DataFrame and store it in a list. This is helpful when we want to plot different data columns on the same chart - we can loop through the column names."
   ]
  },
  {
   "cell_type": "code",
   "execution_count": 8,
   "metadata": {
    "collapsed": false
   },
   "outputs": [
    {
     "data": {
      "text/plain": [
       "['VALUE', 'DATE']"
      ]
     },
     "execution_count": 8,
     "metadata": {},
     "output_type": "execute_result"
    }
   ],
   "source": [
    "baseRateData.columns.tolist()"
   ]
  },
  {
   "cell_type": "markdown",
   "metadata": {},
   "source": [
    "### What have we learnt this lesson?"
   ]
  },
  {
   "cell_type": "markdown",
   "metadata": {},
   "source": [
    "In this lesson we've seen how to restrict the amount of rows that are shown when we view the DataFrame using <code>df.head()</code> and <code>df.tail()</code>. We've also learnt how to describe the DataFrame object, as well as how to obtain some summary statistics.\n",
    "\n",
    "In the next lesson we'll see how to select and access data from a DataFrame."
   ]
  },
  {
   "cell_type": "markdown",
   "metadata": {},
   "source": [
    "If you have any questions, please ask in the comments section or email <a href=\"mailto:me@richard-muir.com\">me@richard-muir.com</a>"
   ]
  }
 ],
 "metadata": {
  "kernelspec": {
   "display_name": "Python 3",
   "language": "python",
   "name": "python3"
  },
  "language_info": {
   "codemirror_mode": {
    "name": "ipython",
    "version": 3
   },
   "file_extension": ".py",
   "mimetype": "text/x-python",
   "name": "python",
   "nbconvert_exporter": "python",
   "pygments_lexer": "ipython3",
   "version": "3.4.5"
  }
 },
 "nbformat": 4,
 "nbformat_minor": 0
}
