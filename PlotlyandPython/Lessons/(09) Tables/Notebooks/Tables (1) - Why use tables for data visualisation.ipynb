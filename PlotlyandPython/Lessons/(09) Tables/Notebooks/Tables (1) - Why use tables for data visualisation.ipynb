{
 "cells": [
  {
   "cell_type": "markdown",
   "metadata": {},
   "source": [
    "# Tables (1) - Why use tables for data visualisation?"
   ]
  },
  {
   "cell_type": "markdown",
   "metadata": {},
   "source": [
    "You might think that including tables in a course about data visualisation is a bit pointless.\n",
    "\n",
    "Surely the whole point of displaying data in a visual way is to remove the need for clunky, ugly and hard-to-read tables?\n",
    "\n",
    "This is not neccesarily true; presenting data in a table is a valid and useful way of communicating data to your audience.\n",
    "\n",
    "The basic difference between tables and charts is that whilst charts interact with our visual system of understanding, tables interact with our verbal system - we read them, and therefore absorb information differently from them.\n",
    "\n",
    "### Why use a table?\n",
    "\n",
    "Tables are actually a very effective form of data presentation for several reasons:\n",
    "1. Familiarity - Almost everyone is familiar with tables and how to read and understand them. \n",
    "2. Granularity - Tables can show data at the lowest level of aggregation, and allow people to interrogate the raw numbers without having to interpret them through a chart or through hoverinfo.\n",
    "3. Variety - Different people interact with data in different ways. Including a table in your dashboard will broaden its appeal to those who like seeing tabular data.\n",
    "\n",
    "##### Tables and charts complement each other because each serves a different function for presenting data."
   ]
  },
  {
   "cell_type": "markdown",
   "metadata": {},
   "source": [
    "## Designing effective tables"
   ]
  },
  {
   "cell_type": "markdown",
   "metadata": {},
   "source": [
    "Just as with charts and graphs it's important to consider how your audience will interpret the data you present in a table, and even more so to design your table in such a way that it's easy for the reader to understand.\n",
    "\n",
    "There are a few basic design rules we can follow:"
   ]
  },
  {
   "cell_type": "markdown",
   "metadata": {},
   "source": [
    "#### Keep your table small and succint.\n",
    "\n",
    "- It's very easy to be overwhelmed by a giant wall of tabular data. \n",
    "- Tables should allow the user to interrogate the most important numbers behind the charts, not to display every piece of data that you used. That's what a .csv download is for!"
   ]
  },
  {
   "cell_type": "markdown",
   "metadata": {},
   "source": [
    "#### Make spacious and uncluttered tables.\n",
    "- Use space to delineate rows and columns. \n",
    "- The numbers in adjacent columns should have enough space between them so that the reader doesn't confuse them for a single number. \n",
    "- There should be vertical space between each row. "
   ]
  },
  {
   "cell_type": "markdown",
   "metadata": {},
   "source": [
    "#### Help your reader understand the table.\n",
    "\n",
    "- Set the header row to a different colour to the rest of the table; your reader will intuitively know it's not to be interpreted as data.   \n",
    "- Alternate colours for the rows in the table so your readers don't have to trace across the table with their finger.   \n",
    "- Use a monospace font (like Arial) so that the size of numbers can be easily compared.\n",
    "- Sort your table in a sensible order - Alphabetically or by Date are two common sorting methods that allow people to easily find the information they need."
   ]
  },
  {
   "cell_type": "markdown",
   "metadata": {
    "collapsed": false
   },
   "source": [
    "## What will we learn in this section?"
   ]
  },
  {
   "cell_type": "markdown",
   "metadata": {},
   "source": [
    "In this section we'll learn how to create a table in Plotly from a list or a Pandas DataFrame.\n",
    "\n",
    "We'll see how to set the colours and font for the table which will allow us to implement what we've just learnt about designing effective tables. We'll also see how to add hoverinfo to a table to capitalise on the interactivity that makes Plotly great.\n",
    "\n",
    "Finally we'll see how to incorporate tables and charts together into the same figure. This will allow us to include tables in any dashboards that we make."
   ]
  },
  {
   "cell_type": "markdown",
   "metadata": {},
   "source": [
    "If you have any questions, please ask in the comments section or email <a href=\"mailto:me@richard-muir.com\">me@richard-muir.com</a>"
   ]
  }
 ],
 "metadata": {
  "kernelspec": {
   "display_name": "Python 3",
   "language": "python",
   "name": "python3"
  },
  "language_info": {
   "codemirror_mode": {
    "name": "ipython",
    "version": 3
   },
   "file_extension": ".py",
   "mimetype": "text/x-python",
   "name": "python",
   "nbconvert_exporter": "python",
   "pygments_lexer": "ipython3",
   "version": "3.4.5"
  }
 },
 "nbformat": 4,
 "nbformat_minor": 0
}
